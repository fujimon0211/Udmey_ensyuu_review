{
 "cells": [
  {
   "cell_type": "code",
   "execution_count": 1,
   "id": "0841cd81",
   "metadata": {},
   "outputs": [],
   "source": [
    "import numpy as np\n",
    "\n",
    "# 前処理にはsklearnライブラリを使っていきます\n",
    "\n",
    "from sklearn import preprocessing\n",
    "# データを読み込みます\n",
    "raw_csv_data =np.loadtxt('Audiobooks-data.csv',delimiter=',')\n",
    "\n",
    "# 最初のIDの列と、ターゲットである最後の列を取り除いた上で変数に代入します\n",
    "unscaled_inputs_all =raw_csv_data[:,1:-1]\n",
    "\n",
    "# 最後の列のデータをターゲットとして変数に代入していきます\n",
    "targets_all = raw_csv_data[:,-1]"
   ]
  },
  {
   "cell_type": "markdown",
   "id": "e0ccfcfb",
   "metadata": {},
   "source": [
    "# カテゴリー変数の0と1の数を均等にする\n"
   ]
  },
  {
   "cell_type": "code",
   "execution_count": 23,
   "id": "c1144684",
   "metadata": {},
   "outputs": [],
   "source": [
    "num_one_targets=np.sum(targets_all)\n",
    "\n",
    "zero_counter=0\n",
    "\n",
    "zero_trash_list=[]\n",
    "\n",
    "for i in range(targets_all.shape[0]):\n",
    "    if targets＿all[i]==0:\n",
    "        zero_counter+=1\n",
    "        if zero_counter>=num_one_targets:\n",
    "            zero_trash_list.append(i)\n",
    "\n",
    "unscaled_inputs_all=np.delete(unscaled_inputs_all,zero_trash_list,axis=0)\n",
    "targets_all=np.delete(targets_all,zero_trash_list,axis=0)\n",
    "            "
   ]
  },
  {
   "cell_type": "markdown",
   "id": "6d2203eb",
   "metadata": {},
   "source": [
    "# 訓練用、検証用、テスト用に分割する"
   ]
  },
  {
   "cell_type": "code",
   "execution_count": null,
   "id": "57c97367",
   "metadata": {},
   "outputs": [],
   "source": []
  },
  {
   "cell_type": "markdown",
   "id": "6d3224ad",
   "metadata": {},
   "source": [
    "# バッチ処理、シャッフルを行う"
   ]
  },
  {
   "cell_type": "code",
   "execution_count": null,
   "id": "3c4c130f",
   "metadata": {},
   "outputs": [],
   "source": []
  },
  {
   "cell_type": "markdown",
   "id": "efa6a97a",
   "metadata": {},
   "source": [
    "# Npzファイルに書くデータを保存する"
   ]
  },
  {
   "cell_type": "markdown",
   "id": "030e45e8",
   "metadata": {},
   "source": [
    "# 独立変数を標準化する"
   ]
  },
  {
   "cell_type": "markdown",
   "id": "349f87d1",
   "metadata": {},
   "source": [
    "# "
   ]
  },
  {
   "cell_type": "code",
   "execution_count": null,
   "id": "f9485101",
   "metadata": {},
   "outputs": [],
   "source": []
  },
  {
   "cell_type": "code",
   "execution_count": null,
   "id": "001c3e9a",
   "metadata": {},
   "outputs": [],
   "source": []
  },
  {
   "cell_type": "code",
   "execution_count": null,
   "id": "8ad6626f",
   "metadata": {},
   "outputs": [],
   "source": []
  },
  {
   "cell_type": "code",
   "execution_count": null,
   "id": "55dfde7a",
   "metadata": {},
   "outputs": [],
   "source": []
  },
  {
   "cell_type": "code",
   "execution_count": null,
   "id": "9aa862d9",
   "metadata": {},
   "outputs": [],
   "source": []
  },
  {
   "cell_type": "code",
   "execution_count": null,
   "id": "c2dca924",
   "metadata": {},
   "outputs": [],
   "source": []
  },
  {
   "cell_type": "code",
   "execution_count": null,
   "id": "e26c3255",
   "metadata": {},
   "outputs": [],
   "source": []
  },
  {
   "cell_type": "code",
   "execution_count": null,
   "id": "f1e0b2fb",
   "metadata": {},
   "outputs": [],
   "source": []
  }
 ],
 "metadata": {
  "kernelspec": {
   "display_name": "Python 3 (ipykernel)",
   "language": "python",
   "name": "python3"
  },
  "language_info": {
   "codemirror_mode": {
    "name": "ipython",
    "version": 3
   },
   "file_extension": ".py",
   "mimetype": "text/x-python",
   "name": "python",
   "nbconvert_exporter": "python",
   "pygments_lexer": "ipython3",
   "version": "3.8.12"
  }
 },
 "nbformat": 4,
 "nbformat_minor": 5
}
