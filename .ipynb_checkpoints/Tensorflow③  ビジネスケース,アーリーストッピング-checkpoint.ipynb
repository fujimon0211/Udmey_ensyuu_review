{
 "cells": [
  {
   "cell_type": "markdown",
   "id": "cbf41dfd-1e48-4ea5-9874-9e1a5a3b5cbd",
   "metadata": {},
   "source": [
    "### ライブラリ、データのダウンロード、データの抽出"
   ]
  },
  {
   "cell_type": "code",
   "execution_count": 1,
   "id": "e03fed3d",
   "metadata": {},
   "outputs": [],
   "source": [
    "import numpy as np\n",
    "\n",
    "# 前処理にはsklearnライブラリを使っていきます\n",
    "\n",
    "from sklearn import preprocessing\n",
    "# データを読み込みます\n",
    "raw_csv_data =np.loadtxt('Audiobooks-data.csv',delimiter=',')\n",
    "\n",
    "# 最初のIDの列と、ターゲットである最後の列を取り除いた上で変数に代入します\n",
    "unscaled_inputs_all =raw_csv_data[:,1:-1]\n",
    "\n",
    "# 最後の列のデータをターゲットとして変数に代入していきます\n",
    "targets_all = raw_csv_data[:,-1]"
   ]
  },
  {
   "cell_type": "markdown",
   "id": "62c39d53-130f-4bc0-b371-e9747475d728",
   "metadata": {},
   "source": [
    "### targets_all のデータの型の確認"
   ]
  },
  {
   "cell_type": "code",
   "execution_count": 2,
   "id": "1de86806-8b91-4c7c-805f-94261ea673f4",
   "metadata": {},
   "outputs": [
    {
     "data": {
      "text/plain": [
       "(14084,)"
      ]
     },
     "execution_count": 2,
     "metadata": {},
     "output_type": "execute_result"
    }
   ],
   "source": [
    "targets_all.shape"
   ]
  },
  {
   "cell_type": "markdown",
   "id": "85616c8d-4d5c-458d-a671-3f95afa6d223",
   "metadata": {},
   "source": [
    "### 1と0の数を数えて、0と1の数が均等になるように、余分の0をリストに格納する"
   ]
  },
  {
   "cell_type": "code",
   "execution_count": 3,
   "id": "f49db94c",
   "metadata": {},
   "outputs": [],
   "source": [
    "# ターゲットの数を数えます\n",
    "num_one_targets =np.sum(targets_all) \n",
    "\n",
    "# 数を数えるための変数を定義します\n",
    "zero_targets_counter = 0\n",
    "# バランスを取る上で不要なデータを入れるためのリストを定義します\n",
    "indices_to_remove = []\n",
    "\n",
    "# ターゲットの数を数え、その数を超える0のデータがあった場合はリストにその値をいれていきます\n",
    "for i in range(targets_all.shape[0]):\n",
    "    if targets_all[i]==0:\n",
    "        zero_targets_counter+=1\n",
    "        if zero_targets_counter>=num_one_targets:\n",
    "           indices_to_remove.append(i)\n",
    "\n",
    "# 入力とターゲットを入れるための変数を定義します\n",
    "# また、バランスが取れていないデータを削除していきます\n",
    "#　0と1の数を揃えた上で全体のデータの数を揃える\n",
    "unscaled_inputs_equal_priors =np.delete(unscaled_inputs_all,indices_to_remove,axis=0)\n",
    "targets_equal_priors = np.delete(targets_all,indices_to_remove,axis=0)"
   ]
  },
  {
   "cell_type": "code",
   "execution_count": 4,
   "id": "0b03308f-57ec-4bd6-a39f-7fbc53d55283",
   "metadata": {},
   "outputs": [
    {
     "data": {
      "text/plain": [
       "2237.0"
      ]
     },
     "execution_count": 4,
     "metadata": {},
     "output_type": "execute_result"
    }
   ],
   "source": [
    "num_one_targets"
   ]
  },
  {
   "cell_type": "markdown",
   "id": "f661c64e-388e-4c63-bbaa-cff11084770a",
   "metadata": {},
   "source": [
    "### インプットデータを標準化する"
   ]
  },
  {
   "cell_type": "code",
   "execution_count": 5,
   "id": "8dbd1190-1157-4c81-9b9b-0f99e0626953",
   "metadata": {},
   "outputs": [],
   "source": [
    "scaled_inputs=preprocessing.scale(unscaled_inputs_equal_priors)"
   ]
  },
  {
   "cell_type": "markdown",
   "id": "32dee27f-3ec8-4078-a60b-6768064321eb",
   "metadata": {},
   "source": [
    "### データをシャッフルして、変数に格納する"
   ]
  },
  {
   "cell_type": "code",
   "execution_count": 6,
   "id": "5e67f24d-b2f3-49d5-80fd-6d1f2da4d274",
   "metadata": {},
   "outputs": [],
   "source": [
    "# データをバッチに分けていくことから、何らかの規則性が生まれないようにデータをシャッフルしていきます\n",
    "shuffled_indices =np.arange(scaled_inputs.shape[0])#行のみを取り出している\n",
    "np.random.shuffle(shuffled_indices)\n",
    "# シャッフルしたデータを変数に入れていきます(行をバラバラにしている)\n",
    "shuffled_inputs = scaled_inputs[shuffled_indices]\n",
    "shuffled_targets =targets_equal_priors[shuffled_indices]\n",
    "\n"
   ]
  },
  {
   "cell_type": "markdown",
   "id": "f9f2c472-5d9d-4d7d-b2d5-c46dacd17f91",
   "metadata": {},
   "source": [
    "### データの数を数え、訓練用、検証用、テスト用に分ける"
   ]
  },
  {
   "cell_type": "code",
   "execution_count": 7,
   "id": "6f69a8d6-24a2-4f39-a77e-a8dd0ed1d51e",
   "metadata": {},
   "outputs": [
    {
     "name": "stdout",
     "output_type": "stream",
     "text": [
      "1772.0 3578 0.49524874231414195\n",
      "-27.091270023884654 447 -0.060606868062381775\n",
      "57.38883194486004 -2683 -0.02138979945764444\n"
     ]
    }
   ],
   "source": [
    "# データの数を数えます\n",
    "samples_count = shuffled_inputs.shape[0]\n",
    "\n",
    "# 80-10-10に分けることを前提として、訓練用と検証用のデータの数を定義していきます(データ型も念の為変換した上で行う)\n",
    "# Naturally, the numbers are integers.\n",
    "train_samples_count = int(0.8*samples_count)\n",
    "validation_samples_count = int(0.1*samples_count)\n",
    "# テスト用のデータの数を定義します\n",
    "test_samples_count = int(samples_count-train_samples_count-train_samples_count)\n",
    "\n",
    "\n",
    "# 訓練用データを作成します\n",
    "train_inputs = shuffled_inputs[:train_samples_count]\n",
    "train_targets =shuffled_targets[:train_samples_count]\n",
    "# 検証用データを作成します\n",
    "validation_inputs = shuffled_inputs[train_samples_count:train_samples_count+validation_samples_count]\n",
    "validation_targets =shuffled_inputs[train_samples_count:train_samples_count+validation_samples_count]\n",
    "\n",
    "# テスト用データを作成します\n",
    "test_inputs = shuffled_inputs[train_samples_count+validation_samples_count:]\n",
    "test_targets = shuffled_inputs[train_samples_count+validation_samples_count:]\n",
    "\n",
    "\n",
    "\n",
    "# 作成したデータの中の１と０の割合を確認します\n",
    "print(np.sum(train_targets), train_samples_count, np.sum(train_targets) / train_samples_count)\n",
    "print(np.sum(validation_targets), validation_samples_count, np.sum(validation_targets) / validation_samples_count)\n",
    "print(np.sum(test_targets), test_samples_count, np.sum(test_targets) / test_samples_count)\n",
    "\n"
   ]
  },
  {
   "cell_type": "markdown",
   "id": "62ea7fa0-6bcf-4c7a-b360-500269b38830",
   "metadata": {},
   "source": [
    "### Ssavezメソッドを使ってデータを保存していきます\n"
   ]
  },
  {
   "cell_type": "code",
   "execution_count": 8,
   "id": "8290f0b2-f9ea-4db6-8f90-2e1925057da6",
   "metadata": {},
   "outputs": [],
   "source": [
    "# Ssavezメソッドを使ってデータを保存していきます\n",
    "np.savez('Audiobooks_data_train',inputs=train_inputs,targets=train_targets)\n",
    "np.savez('Audiobooks_data_validation',inputs=validation_inputs,targets=validation_targets)\n",
    "np.savez('Audiobooks_data_test',inputs=test_inputs,targets=test_targets)\n"
   ]
  },
  {
   "cell_type": "markdown",
   "id": "41770106-6267-450b-aa61-55e9b60a734d",
   "metadata": {},
   "source": [
    "### 機械学習用に新たにライブラリーをインポートする"
   ]
  },
  {
   "cell_type": "code",
   "execution_count": null,
   "id": "b4c2edb1-af2c-45e6-b447-e5e6349e47d1",
   "metadata": {},
   "outputs": [],
   "source": [
    "# 新たに一からコードを書いていきますので、再度ライブラリをインポートします\n",
    "import numpy as np\n",
    "import tensorflow as tf\n",
    "\n",
    "# まずは訓練データを一時的に読み込みます\n",
    "npz = np.load('Audiobooks_data_train.npz')\n",
    "\n",
    "# 訓練用のデータを入力とターゲットに分けて変数に代入していきます\n",
    "train_inputs =npz['inputs'].astype(np.float)#データ型も念の為変換した上で行う\n",
    "train_targets =npz['targets'].astype(np.int) #データ型も念の為変換した上で行う\n",
    "\n"
   ]
  },
  {
   "cell_type": "markdown",
   "id": "5d5879ff-21f7-43d0-af5b-3de3426a4278",
   "metadata": {},
   "source": [
    "### 訓練データを読み込み、訓練用、検証用、テスト用でそれぞれ変数に代入する"
   ]
  },
  {
   "cell_type": "code",
   "execution_count": null,
   "id": "471d3011",
   "metadata": {
    "scrolled": true
   },
   "outputs": [],
   "source": [
    "# 検証用データを一時的に読み込みます\n",
    "npz = np.load('Audiobooks_data_validation.npz')\n",
    "# 訓練用のデータを入力とターゲットに分けて変数に代入していきます\n",
    "validation_inputs, validation_targets =npz['inputs'].astype(np.float),npz['targets'].astype(np.int) #データ型も念の為変換した上で行う\n",
    "\n",
    "# テストデータを一時的に読み込みます\n",
    "npz = np.load('Audiobooks_data_test.npz')\n",
    "# テスト用のデータを入力とターゲットに分けて変数に代入していきます\n",
    "test_inputs, test_targets =npz['inputs'].astype(np.float),npz['targets'].astype(np.int) #データ型も念の為変換した上で行う"
   ]
  },
  {
   "cell_type": "markdown",
   "id": "22efd35c-35bc-4b77-a5ea-194bf0303047",
   "metadata": {},
   "source": [
    "### TensofFlow で入力層、出力層等を定義しモデルを作成。フィットさせる"
   ]
  },
  {
   "cell_type": "code",
   "execution_count": null,
   "id": "f39c10cb",
   "metadata": {},
   "outputs": [],
   "source": [
    "# 入力の数と出力の数を定義します\n",
    "input_size = 10\n",
    "output_size = 2\n",
    "# 隠れ層のユニットの数を定義します\n",
    "hidden_layer_size = 30\n",
    "    \n",
    "# モデルを作成していきます\n",
    "model = tf.keras.Sequential([\n",
    "    tf.keras.layers.Dense(hidden_layer_size, activation='relu'), # 1番目の隠れ層\n",
    "    tf.keras.layers.Dense(hidden_layer_size, activation='relu'), # 2番目の隠れ層\n",
    "    tf.keras.layers.Dense(hidden_layer_size, activation='relu'), # 3番目の隠れ層\n",
    "   \n",
    "    tf.keras.layers.Dense(output_size, activation='softmax') # 出力層\n",
    "])\n",
    "\n",
    "\n",
    "# 損失関数と最適化アルゴリズムを定義していきます\n",
    "model.compile(optimizer='adam', loss='sparse_categorical_crossentropy', metrics=['accuracy'])\n",
    "\n",
    "### 訓練\n",
    "\n",
    "# バッチサイズの設定\n",
    "batch_size = 100\n",
    "\n",
    "# 繰り返し回数の設定\n",
    "max_epochs = 100\n",
    "\n",
    "early_stopping = tf.keras.callbacks.EarlyStopping(patience=2)\n",
    "# モデルにデータを入れていきます\n",
    "model.fit(train_inputs, # 訓練データの入力\n",
    "          train_targets, # 訓練データのターゲット\n",
    "          batch_size=batch_size, # バッチサイズ\n",
    "          epochs=max_epochs, # 繰り返し回数\n",
    "            callbacks=[early_stopping], # アーリーストッピング\n",
    "          validation_data=(validation_inputs, validation_targets), # 検証データの指定\n",
    "          verbose = 2 # 結果の見た目を変更\n",
    "          )  "
   ]
  },
  {
   "cell_type": "markdown",
   "id": "044d0c3e-0019-4f48-b246-e5f3aea128ae",
   "metadata": {},
   "source": [
    "### テストデータでテストを行う"
   ]
  },
  {
   "cell_type": "code",
   "execution_count": null,
   "id": "e7886e84",
   "metadata": {},
   "outputs": [],
   "source": []
  },
  {
   "cell_type": "code",
   "execution_count": null,
   "id": "8fcf16dd",
   "metadata": {},
   "outputs": [],
   "source": [
    "print('\\nTest loss: {0:.2f}. Test accuracy: {1:.2f}%'.format(test_loss, test_accuracy*100.))"
   ]
  },
  {
   "cell_type": "code",
   "execution_count": null,
   "id": "d4cc862f",
   "metadata": {},
   "outputs": [],
   "source": []
  }
 ],
 "metadata": {
  "kernelspec": {
   "display_name": "Python 3 (ipykernel)",
   "language": "python",
   "name": "python3"
  },
  "language_info": {
   "codemirror_mode": {
    "name": "ipython",
    "version": 3
   },
   "file_extension": ".py",
   "mimetype": "text/x-python",
   "name": "python",
   "nbconvert_exporter": "python",
   "pygments_lexer": "ipython3",
   "version": "3.8.12"
  }
 },
 "nbformat": 4,
 "nbformat_minor": 5
}
