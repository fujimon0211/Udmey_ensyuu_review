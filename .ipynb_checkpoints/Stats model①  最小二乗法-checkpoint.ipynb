{
 "cells": [
  {
   "cell_type": "code",
   "execution_count": null,
   "id": "b351d4fb-66d0-4ef9-8b24-00530d7e3139",
   "metadata": {},
   "outputs": [],
   "source": [
    "import numpy as np\n",
    "import pandas as pd\n",
    "import matplotlib.pyplot as plt\n",
    "import statsmodels.api as sm\n",
    "import seaborn as sns\n",
    "sns.set()"
   ]
  },
  {
   "cell_type": "markdown",
   "id": "2c9365d2-79da-45bb-942e-9fb730ab0d03",
   "metadata": {},
   "source": [
    "### データを読み込み、従属変数と独立変数を定義する\n"
   ]
  },
  {
   "cell_type": "code",
   "execution_count": null,
   "id": "ff995fda-a18a-4bc9-87e1-0afb33317cb9",
   "metadata": {},
   "outputs": [],
   "source": [
    "raw_data=pd.read_csv('real_estate_price_size_year_view.csv')"
   ]
  },
  {
   "cell_type": "code",
   "execution_count": null,
   "id": "aa4712f4-c378-4423-9477-9299c3ce8206",
   "metadata": {},
   "outputs": [],
   "source": [
    "data=raw_data.copy()\n",
    "data.head()"
   ]
  },
  {
   "cell_type": "markdown",
   "id": "720f63c3-217d-4131-9901-eadea2078f7c",
   "metadata": {},
   "source": [
    "### カテゴリー変数を整理する"
   ]
  },
  {
   "cell_type": "code",
   "execution_count": null,
   "id": "bc441c66-c39d-42e2-8565-49feb86f28a6",
   "metadata": {},
   "outputs": [],
   "source": [
    "data['view']=data['view'].map({'No sea view':0,'Sea view':1})\n",
    "data"
   ]
  },
  {
   "cell_type": "code",
   "execution_count": null,
   "id": "a0616056-d27d-4765-893f-120caa785add",
   "metadata": {},
   "outputs": [],
   "source": [
    "y=data['price']\n",
    "x=data[['size','year','view']]"
   ]
  },
  {
   "cell_type": "code",
   "execution_count": null,
   "id": "3d9bf721-a90e-4643-99d9-8712facc27c8",
   "metadata": {},
   "outputs": [],
   "source": [
    "x1=sm.add_constant(x)\n",
    "y_hat=sm.OLS(y,x1)#怪しい\n",
    "result=y_hat.fit()\n",
    "result.summary()"
   ]
  },
  {
   "cell_type": "code",
   "execution_count": null,
   "id": "b5039a42-948f-42fc-8fc7-260135ab930c",
   "metadata": {},
   "outputs": [],
   "source": []
  },
  {
   "cell_type": "markdown",
   "id": "80a07891-c921-42b5-8ced-9188469b62ca",
   "metadata": {},
   "source": [
    "### Stats modelを用いて切片、係数、自由度等を求め、回帰式を定義する"
   ]
  },
  {
   "cell_type": "code",
   "execution_count": null,
   "id": "a0bfc54a-c762-4db1-a391-1dc676bb6265",
   "metadata": {},
   "outputs": [],
   "source": []
  },
  {
   "cell_type": "code",
   "execution_count": null,
   "id": "893f61aa-a512-4ad4-8aa1-dabdc9e69e2e",
   "metadata": {},
   "outputs": [],
   "source": []
  }
 ],
 "metadata": {
  "kernelspec": {
   "display_name": "Python 3 (ipykernel)",
   "language": "python",
   "name": "python3"
  },
  "language_info": {
   "codemirror_mode": {
    "name": "ipython",
    "version": 3
   },
   "file_extension": ".py",
   "mimetype": "text/x-python",
   "name": "python",
   "nbconvert_exporter": "python",
   "pygments_lexer": "ipython3",
   "version": "3.8.12"
  }
 },
 "nbformat": 4,
 "nbformat_minor": 5
}
