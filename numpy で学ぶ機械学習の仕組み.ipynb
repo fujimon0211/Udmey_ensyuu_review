{
 "cells": [
  {
   "cell_type": "code",
   "execution_count": 1,
   "id": "87bb76b2-5477-4a5a-9672-773b44b6ee01",
   "metadata": {},
   "outputs": [],
   "source": [
    "import numpy as np\n",
    "\n",
    "# matplotlib と mpl_toolkits は必須ではないですが、グラフを書く際に必要となります。  \n",
    "import matplotlib.pyplot as plt\n",
    "from mpl_toolkits.mplot3d import Axes3D"
   ]
  },
  {
   "cell_type": "code",
   "execution_count": 2,
   "id": "88d067a3-cc22-4c4b-bb96-b9d94e5fdde9",
   "metadata": {},
   "outputs": [
    {
     "name": "stdout",
     "output_type": "stream",
     "text": [
      "(1000, 2)\n"
     ]
    }
   ],
   "source": [
    "# まずは作成したいデータの数を入れた変数を作成します\n",
    "observations = 1000\n",
    "\n",
    "# 入力の変数は2つです\n",
    "# 今回はそれをxとzとします\n",
    "# その値は一様分布を使ってランダムに決めていきます。uniformメソッドの引数は3つです(low, high, size).\n",
    "# xs と zs のサイズは1000 x 1です\n",
    "xs = np.random.uniform(low=-10, high=10, size=(observations,1))\n",
    "zs = np.random.uniform(-10, 10, (observations,1))\n",
    "\n",
    "# 2つの変数を一つの行列にします \n",
    "# column_stackは Numpy のメソッドであり、2つのベクトルを組み合わせて行列にします\n",
    "inputs = np.column_stack((xs,zs))\n",
    "\n",
    "# 行列のサイズは n x kとなり、 n はデータの数を示しており、 k は変数の数を示しています。つまり、今回は1000 x 2となります。\n",
    "print (inputs.shape)"
   ]
  },
  {
   "cell_type": "code",
   "execution_count": 3,
   "id": "e140bd88-65a2-48ee-9918-c0eaee7e99f2",
   "metadata": {},
   "outputs": [
    {
     "name": "stdout",
     "output_type": "stream",
     "text": [
      "(1000, 1)\n"
     ]
    }
   ],
   "source": [
    "# ターゲットとする値にはランダムなノイズを加えます f(x,z) = 2x - 3z + 5 + <ノイズ>\n",
    "noise = np.random.uniform(-1, 1, (observations,1))\n",
    "\n",
    "# f(x,z) = 2x - 3z + 5 + noise の式を使ってターゲットを作成します\n",
    "# ここでは、重みはそれぞれ2と-3となり、バイアスは5です\n",
    "targets = 2*xs - 3*zs + 5 + noise\n",
    "\n",
    "# 念の為、ターゲットのサイズを確認しておきましょう。今回の場合はn x mであり、mは出力の数ということから1000 x 1となります\n",
    "print (targets.shape)"
   ]
  },
  {
   "cell_type": "code",
   "execution_count": 4,
   "id": "8b600e5a-621c-4482-a053-f98f1e1c8f7e",
   "metadata": {},
   "outputs": [
    {
     "data": {
      "image/png": "[encoded data removed]",
      "text/plain": [
       "<Figure size 432x288 with 1 Axes>"
      ]
     },
     "metadata": {
      "needs_background": "light"
     },
     "output_type": "display_data"
    }
   ],
   "source": [
    "# 3D plotを使うためにはオブジェクトはある形状でなければいけないことから、reshapeメソッドを使っていきます\n",
    "targets = targets.reshape(observations,)\n",
    "xs = xs.reshape(observations,)\n",
    "zs = zs.reshape(observations,)\n",
    "\n",
    "# matplotlib.pyplotを使って散布図を作成していきます\n",
    "\n",
    "# 変数を宣言します\n",
    "fig = plt.figure()\n",
    "\n",
    "# 3dのグラフを作成するためのメソッドを書いていきます\n",
    "ax = fig.add_subplot(111, projection='3d')\n",
    "\n",
    "# 軸を選びます\n",
    "ax.plot(xs, zs, targets)\n",
    "\n",
    "# ラベルに名前を付けます\n",
    "ax.set_xlabel('xs')\n",
    "ax.set_ylabel('zs')\n",
    "ax.set_zlabel('Targets')\n",
    "\n",
    "# azimの値を変えることで、グラフをどこから見るのかという点を変更することができます\n",
    "ax.view_init(azim=100)\n",
    "\n",
    "# 実際に散布図を表示していきます \n",
    "plt.show()\n",
    "\n",
    "# ターゲットの形状を元に戻していきます\n",
    "targets = targets.reshape(observations,1)\n",
    "xs = xs.reshape(observations,1)\n",
    "zs = zs.reshape(observations,1)\n"
   ]
  },
  {
   "cell_type": "code",
   "execution_count": 5,
   "id": "2f045477-9852-4bc8-b243-8c02fd555d47",
   "metadata": {},
   "outputs": [
    {
     "name": "stdout",
     "output_type": "stream",
     "text": [
      "[[-0.05011067]\n",
      " [-0.01562769]]\n",
      "[0.08760764]\n"
     ]
    }
   ],
   "source": [
    "# 重みとバイアスを、ある範囲でランダムに決めていきます\n",
    "# その範囲を決める変数としてinit_rangeを定義します\n",
    "init_range = 0.1\n",
    "\n",
    "# 重みのサイズは k x mであり k は入力の数、 m は出力の数です\n",
    "# 今回の場合においては、重みの行列は2x1となります。\n",
    "weights = np.random.uniform(low=-init_range, high=init_range, size=(2, 1))\n",
    "\n",
    "# バイアスのサイズは1であり、スカラーとなります\n",
    "biases = np.random.uniform(low=-init_range, high=init_range, size=1)\n",
    "\n",
    "#初期化の結果を確認してみましょう\n",
    "print (weights)\n",
    "print (biases)"
   ]
  },
  {
   "cell_type": "code",
   "execution_count": 6,
   "id": "dde7b830-5335-4e1c-97b4-06b61008ce44",
   "metadata": {},
   "outputs": [],
   "source": [
    "# 今回の例では、学習率が0.02だと非常に良く機能します。\n",
    "learning_rate = 0.02"
   ]
  },
  {
   "cell_type": "code",
   "execution_count": 7,
   "id": "0e80b65d-1938-48ad-b164-a5b0c67ba848",
   "metadata": {},
   "outputs": [
    {
     "name": "stdout",
     "output_type": "stream",
     "text": [
      "231.65110970182684\n",
      "36.14486681718852\n",
      "14.049200408284172\n",
      "11.189677977727868\n",
      "10.493699998424654\n",
      "10.055666129768769\n",
      "9.660993778633431\n",
      "9.284894716181633\n",
      "8.924017868607171\n",
      "8.577463090078087\n",
      "8.244629542975057\n",
      "7.924970248901454\n",
      "7.617963318098511\n",
      "7.323107911427529\n",
      "7.039923058449022\n",
      "6.76794683101012\n",
      "6.506735584946431\n",
      "6.255863235862942\n",
      "6.014920564047123\n",
      "5.783514546947747\n",
      "5.56126771808078\n",
      "5.347817551310871\n",
      "5.142815869503409\n",
      "4.945928276582532\n",
      "4.75683361206859\n",
      "4.575223427205335\n",
      "4.400801481822349\n",
      "4.233283261111913\n",
      "4.072395511532163\n",
      "3.9178757950794743\n",
      "3.7694720612029924\n",
      "3.626942235663055\n",
      "3.4900538256628533\n",
      "3.3585835406091973\n",
      "3.2323169278838106\n",
      "3.111048023031007\n",
      "2.994579013791148\n",
      "2.882719917431871\n",
      "2.775288270850711\n",
      "2.672108832943677\n",
      "2.5730132987542316\n",
      "2.4778400249364445\n",
      "2.386433766084466\n",
      "2.298645421498244\n",
      "2.214331791972398\n",
      "2.1333553462115424\n",
      "2.0555839964910207\n",
      "1.9808908831971395\n",
      "1.9091541678954054\n",
      "1.8402568345892611\n",
      "1.7740864988451164\n",
      "1.7105352244723202\n",
      "1.6494993474590478\n",
      "1.5908793068769211\n",
      "1.5345794824785075\n",
      "1.4805080387228313\n",
      "1.4285767749744174\n",
      "1.3787009816315723\n",
      "1.330799301949185\n",
      "1.2847935993306574\n",
      "1.240608829872508\n",
      "1.1981729199537328\n",
      "1.157416648670251\n",
      "1.1182735349226711\n",
      "1.0806797289731789\n",
      "1.0445739082946837\n",
      "1.009897177542308\n",
      "0.9765929724840637\n",
      "0.9446069677340163\n",
      "0.9138869881374243\n",
      "0.8843829236632981\n",
      "0.8560466476655783\n",
      "0.8288319383795704\n",
      "0.8026944035256081\n",
      "0.7775914078969408\n",
      "0.7534820038137413\n",
      "0.730326864329782\n",
      "0.7080882190828351\n",
      "0.686729792684142\n",
      "0.666216745546481\n",
      "0.6465156170542777\n",
      "0.6275942709830877\n",
      "0.6094218430794076\n",
      "0.5919686907153011\n",
      "0.5752063445357322\n",
      "0.5591074620197278\n",
      "0.5436457828796074\n",
      "0.5287960862255452\n",
      "0.5145341494255861\n",
      "0.5008367085939983\n",
      "0.48768142064353026\n",
      "0.4750468268396545\n",
      "0.46291231779736064\n",
      "0.45125809986339416\n",
      "0.440065162829106\n",
      "0.42931524892124995\n",
      "0.4189908230201388\n",
      "0.409075044056583\n",
      "0.39955173754096457\n",
      "0.390405369179612\n"
     ]
    }
   ],
   "source": [
    "# 今回は繰り返しの回数は100回とします\n",
    "for i in range (100):\n",
    "    \n",
    "    # y = xw + b の線形モデルの等式です\n",
    "    outputs = np.dot(inputs,weights) + biases\n",
    "     # デルタは出力とターゲットの差を示しています\n",
    "    # ここではデルタは1000x1のベクトルです\n",
    "    deltas = outputs - targets\n",
    "        \n",
    "    # L2ノルム損失を使って損失の計算をしていきます。値を2で割っていますが、これは最小値を見つけるという意味では影響はありません。\n",
    "    # また、コードを一般化させるためにデータの数で割っています。\n",
    "    loss = np.sum(deltas ** 2) / 2 / observations\n",
    "    \n",
    "    # それぞれの繰り返しにおける損失関数の値を出力します.\n",
    "    print (loss)\n",
    "    \n",
    "    # 損失関数の場合と同じように、デルタに関してもデータの数で割っていきます\n",
    "    deltas_scaled = deltas / observations\n",
    "    \n",
    "    # 勾配降下法のアルゴリズムを適用していきます\n",
    "    # 重みは2x1, 学習率は1x1 (scalar), 入力は1000x2, デルタは1000x1となります\n",
    "    # 演算を適切に行うために、入力の転置を取ります\n",
    "    weights = weights - learning_rate * np.dot(inputs.T,deltas_scaled)\n",
    "    biases = biases - learning_rate * np.sum(deltas_scaled)"
   ]
  },
  {
   "cell_type": "code",
   "execution_count": 8,
   "id": "e3dd9304-9acf-430b-8fb7-e54fc5977da0",
   "metadata": {},
   "outputs": [
    {
     "name": "stdout",
     "output_type": "stream",
     "text": [
      "[[ 2.00404862]\n",
      " [-2.99533743]] [4.36135277]\n"
     ]
    }
   ],
   "source": [
    "# 重みとバイアスの値が適切かどうか確認しましょう。（重みは2と-3、バイアスは5でした。）\n",
    "print (weights, biases)"
   ]
  },
  {
   "cell_type": "code",
   "execution_count": 9,
   "id": "12b8577e-6611-4a6b-a7d6-414d133bdf1a",
   "metadata": {},
   "outputs": [
    {
     "data": {
      "image/png": "[encoded data removed]",
      "text/plain": [
       "<Figure size 432x288 with 1 Axes>"
      ]
     },
     "metadata": {
      "needs_background": "light"
     },
     "output_type": "display_data"
    }
   ],
   "source": [
    "plt.plot(outputs,targets)\n",
    "plt.xlabel('outputs')\n",
    "plt.ylabel('targets')\n",
    "plt.show()"
   ]
  },
  {
   "cell_type": "code",
   "execution_count": null,
   "id": "2cf56c79-92df-4e63-aaec-b000a6e22ec3",
   "metadata": {},
   "outputs": [],
   "source": []
  }
 ],
 "metadata": {
  "kernelspec": {
   "display_name": "Python 3 (ipykernel)",
   "language": "python",
   "name": "python3"
  },
  "language_info": {
   "codemirror_mode": {
    "name": "ipython",
    "version": 3
   },
   "file_extension": ".py",
   "mimetype": "text/x-python",
   "name": "python",
   "nbconvert_exporter": "python",
   "pygments_lexer": "ipython3",
   "version": "3.8.12"
  }
 },
 "nbformat": 4,
 "nbformat_minor": 5
}
